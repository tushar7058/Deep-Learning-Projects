{
 "cells": [
  {
   "cell_type": "code",
   "execution_count": 2,
   "id": "132e6732-f951-406f-9125-38144cb0a44d",
   "metadata": {},
   "outputs": [],
   "source": [
    "import numpy as np\n"
   ]
  },
  {
   "cell_type": "markdown",
   "id": "bf2fdb8a-3d98-401e-b00f-8fed4f89fba5",
   "metadata": {},
   "source": [
    "Sigmoid Perceptron class\n",
    "\n"
   ]
  },
  {
   "cell_type": "code",
   "execution_count": null,
   "id": "9c339d9b-12ec-4481-92d1-572e10f47be5",
   "metadata": {},
   "outputs": [],
   "source": [
    "class SigmoidPerceptron():\n",
    "\n",
    "    def __init__(self,input_size):\n",
    "        self.weights = np.random.randn(input_size)\n",
    "        self.bias = np.random.randm(1)\n",
    "        \n",
    "    def sigmoid(self,z):\n",
    "        return 1/(1+np.exp(-z))\n",
    "\n",
    "    def predict(self,inputs):\n",
    "        weighted_sum = np.dot(inputs,self.weights)+self.bias\n",
    "        return self.sigmoid(weighted_sum)\n",
    "\n",
    "    def fit(self,inputs,targets,learning_rate,num_epochs):\n",
    "        num_example = input.shape[0]\n",
    "        for epoch in range(num_epochs):\n",
    "            \n",
    "\n",
    "            for i in range(num_example):\n",
    "\n",
    "                input_vector = input[i]\n",
    "                \n",
    "                target = targets[i]\n",
    "                \n",
    "                prediction = self.predict(input_vector)\n",
    "                \n",
    "                error = target-prediction\n",
    "                \n",
    "                # update weights\n",
    "                gradient_weights = error*prediction*(1-prediction)*input_vector\n",
    "                self.weights +=learning_rate*gradient_weights\n",
    "                \n",
    "                #update bias\n",
    "                gradient_bias = error*prediction*(1-prediction)\n",
    "                self.bias +=learning_rate*gradient_bias\n",
    "\n",
    "    def evaluate(self,inputs,targets):\n",
    "        correct = 0\n",
    "        for input_vector,target in zip(inputs,targets):\n",
    "            prediction = self.predict(input_vector)\n",
    "            if prediction>=0.5:\n",
    "                predicted_class=1\n",
    "            else:\n",
    "                predicted_class = 0\n",
    "\n",
    "\n",
    "            if predicted_class ==target:\n",
    "                correct+=1\n",
    "\n",
    "            accuracy = correct/len(inputs) # accuracy = no of correct predictions/total no of data points\n",
    "            return accuracy  \n",
    "\n",
    "        "
   ]
  },
  {
   "cell_type": "code",
   "execution_count": null,
   "id": "aa1a8e19-d777-46b0-970d-d2acdf866f98",
   "metadata": {},
   "outputs": [],
   "source": []
  }
 ],
 "metadata": {
  "kernelspec": {
   "display_name": "Python 3 (ipykernel)",
   "language": "python",
   "name": "python3"
  },
  "language_info": {
   "codemirror_mode": {
    "name": "ipython",
    "version": 3
   },
   "file_extension": ".py",
   "mimetype": "text/x-python",
   "name": "python",
   "nbconvert_exporter": "python",
   "pygments_lexer": "ipython3",
   "version": "3.12.4"
  }
 },
 "nbformat": 4,
 "nbformat_minor": 5
}
