{
 "cells": [
  {
   "cell_type": "code",
   "id": "initial_id",
   "metadata": {
    "collapsed": true,
    "ExecuteTime": {
     "end_time": "2024-07-30T17:22:49.178087Z",
     "start_time": "2024-07-30T17:22:49.175716Z"
    }
   },
   "source": "import math\n",
   "outputs": [],
   "execution_count": 1
  },
  {
   "metadata": {
    "ExecuteTime": {
     "end_time": "2024-07-30T17:25:07.875034Z",
     "start_time": "2024-07-30T17:25:07.867526Z"
    }
   },
   "cell_type": "code",
   "source": [
    "# Sigmoid activation function\n",
    "def sigmoid(x):\n",
    "    return 1/(1+math.exp(-x))"
   ],
   "id": "56230984de5d60d0",
   "outputs": [],
   "execution_count": 4
  },
  {
   "metadata": {
    "ExecuteTime": {
     "end_time": "2024-07-30T17:25:08.272830Z",
     "start_time": "2024-07-30T17:25:08.270808Z"
    }
   },
   "cell_type": "code",
   "source": [
    "sigmoid_opt = sigmoid(2)\n",
    "print(sigmoid_opt)"
   ],
   "id": "e67109aaacc26684",
   "outputs": [
    {
     "name": "stdout",
     "output_type": "stream",
     "text": [
      "0.8807970779778823\n"
     ]
    }
   ],
   "execution_count": 5
  },
  {
   "metadata": {
    "ExecuteTime": {
     "end_time": "2024-07-30T17:26:53.610930Z",
     "start_time": "2024-07-30T17:26:53.604837Z"
    }
   },
   "cell_type": "code",
   "source": [
    "# ReLU activation Function\n",
    "def Relu(x):\n",
    "    return x if x>0 else 0"
   ],
   "id": "580d81b8342641bd",
   "outputs": [],
   "execution_count": 6
  },
  {
   "metadata": {
    "ExecuteTime": {
     "end_time": "2024-07-30T17:27:23.744273Z",
     "start_time": "2024-07-30T17:27:23.740895Z"
    }
   },
   "cell_type": "code",
   "source": [
    "relu_opt = Relu(-2)\n",
    "print(relu_opt)"
   ],
   "id": "d3eded7b4fd92d28",
   "outputs": [
    {
     "name": "stdout",
     "output_type": "stream",
     "text": [
      "0\n"
     ]
    }
   ],
   "execution_count": 7
  },
  {
   "metadata": {
    "ExecuteTime": {
     "end_time": "2024-07-30T17:27:55.014448Z",
     "start_time": "2024-07-30T17:27:55.007333Z"
    }
   },
   "cell_type": "code",
   "source": [
    "relu_opt = Relu(4) # if positive val output is input\n",
    "print(relu_opt)"
   ],
   "id": "1a109c12b2264139",
   "outputs": [
    {
     "name": "stdout",
     "output_type": "stream",
     "text": [
      "4\n"
     ]
    }
   ],
   "execution_count": 8
  },
  {
   "metadata": {
    "ExecuteTime": {
     "end_time": "2024-07-30T17:30:00.906610Z",
     "start_time": "2024-07-30T17:30:00.902248Z"
    }
   },
   "cell_type": "code",
   "source": [
    "# tanH activation function\n",
    "def tanH(x):\n",
    "    return (math.exp(x)-math.exp(-x))/(math.exp(x)+math.exp(-x))"
   ],
   "id": "4c0530559cc5bd42",
   "outputs": [],
   "execution_count": 10
  },
  {
   "metadata": {
    "ExecuteTime": {
     "end_time": "2024-07-30T17:30:12.051390Z",
     "start_time": "2024-07-30T17:30:12.045277Z"
    }
   },
   "cell_type": "code",
   "source": [
    "tanh_op = tanH(1)\n",
    "print(tanh_op)"
   ],
   "id": "86054cc8e5be5e5",
   "outputs": [
    {
     "name": "stdout",
     "output_type": "stream",
     "text": [
      "0.7615941559557649\n"
     ]
    }
   ],
   "execution_count": 11
  },
  {
   "metadata": {
    "ExecuteTime": {
     "end_time": "2024-07-30T17:37:12.708466Z",
     "start_time": "2024-07-30T17:37:12.701552Z"
    }
   },
   "cell_type": "code",
   "source": [
    "# softmax activation function\n",
    "def softmax(x):\n",
    "    ''' x --> list'''\n",
    "    exp_x = [math.exp(i) for i in x ]\n",
    "    sum_exp_x = sum(exp_x)\n",
    "    # compute softmax value for each element in x\n",
    "    \n",
    "    return [j/sum_exp_x for j in exp_x]\n",
    "\n"
   ],
   "id": "e4d968769a4bb03d",
   "outputs": [],
   "execution_count": 14
  },
  {
   "metadata": {
    "ExecuteTime": {
     "end_time": "2024-07-30T17:37:14.136983Z",
     "start_time": "2024-07-30T17:37:14.133219Z"
    }
   },
   "cell_type": "code",
   "source": [
    "softmax_op = softmax([2,1,-1])\n",
    "print(softmax_op)"
   ],
   "id": "f1849b9b298b6423",
   "outputs": [
    {
     "name": "stdout",
     "output_type": "stream",
     "text": [
      "[0.7053845126982412, 0.2594964603424191, 0.03511902695933972]\n"
     ]
    }
   ],
   "execution_count": 15
  },
  {
   "metadata": {},
   "cell_type": "code",
   "outputs": [],
   "execution_count": null,
   "source": "",
   "id": "420bcd07ed9a82d7"
  }
 ],
 "metadata": {
  "kernelspec": {
   "display_name": "Python 3",
   "language": "python",
   "name": "python3"
  },
  "language_info": {
   "codemirror_mode": {
    "name": "ipython",
    "version": 2
   },
   "file_extension": ".py",
   "mimetype": "text/x-python",
   "name": "python",
   "nbconvert_exporter": "python",
   "pygments_lexer": "ipython2",
   "version": "2.7.6"
  }
 },
 "nbformat": 4,
 "nbformat_minor": 5
}
